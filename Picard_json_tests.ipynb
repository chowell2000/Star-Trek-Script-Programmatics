{
  "nbformat": 4,
  "nbformat_minor": 0,
  "metadata": {
    "colab": {
      "name": "Picard_json_tests.ipynb",
      "provenance": [],
      "authorship_tag": "ABX9TyMZzjJFlVs3qPe+ysCDd/kz",
      "include_colab_link": true
    },
    "kernelspec": {
      "name": "python3",
      "display_name": "Python 3"
    },
    "language_info": {
      "name": "python"
    }
  },
  "cells": [
    {
      "cell_type": "markdown",
      "metadata": {
        "id": "view-in-github",
        "colab_type": "text"
      },
      "source": [
        "<a href=\"https://colab.research.google.com/github/chowell2000/Star-Trek-Script-Programmatics/blob/master/Picard_json_tests.ipynb\" target=\"_parent\"><img src=\"https://colab.research.google.com/assets/colab-badge.svg\" alt=\"Open In Colab\"/></a>"
      ]
    },
    {
      "cell_type": "code",
      "metadata": {
        "id": "wGu_sFw8kDW8"
      },
      "source": [
        "\n",
        "# import numpy as np\n",
        "# import random\n",
        "import sys\n",
        "import os\n",
        "import urllib.request"
      ],
      "execution_count": 10,
      "outputs": []
    },
    {
      "cell_type": "code",
      "metadata": {
        "id": "9gYHW4u4mHyJ"
      },
      "source": [
        "import json"
      ],
      "execution_count": 8,
      "outputs": []
    },
    {
      "cell_type": "code",
      "metadata": {
        "colab": {
          "base_uri": "https://localhost:8080/"
        },
        "id": "tMQA4TZykljX",
        "outputId": "e3d81e63-84a0-478e-d62c-01f7bf739ab4"
      },
      "source": [
        "from google.colab import drive\n",
        "drive.mount('/content/drive')"
      ],
      "execution_count": 3,
      "outputs": [
        {
          "output_type": "stream",
          "text": [
            "Mounted at /content/drive\n"
          ],
          "name": "stdout"
        }
      ]
    },
    {
      "cell_type": "code",
      "metadata": {
        "id": "R_jVyTgNogzN"
      },
      "source": [
        "with open('drive/My Drive/s01e01.json') as f:\n",
        "  farpoint_json = f.read()"
      ],
      "execution_count": 27,
      "outputs": []
    },
    {
      "cell_type": "code",
      "metadata": {
        "id": "A_ZwYLK6knFP"
      },
      "source": [
        "# farpoint_json = open('drive/My Drive/s01e01.json')\n",
        "\n",
        "# open()"
      ],
      "execution_count": 23,
      "outputs": []
    },
    {
      "cell_type": "code",
      "metadata": {
        "colab": {
          "base_uri": "https://localhost:8080/"
        },
        "id": "Y8YIaYg6knAQ",
        "outputId": "e7a0daf2-b9bd-4abb-bc33-1810581e78de"
      },
      "source": [
        "print(farpoint_json[0:200])"
      ],
      "execution_count": 87,
      "outputs": [
        {
          "output_type": "stream",
          "text": [
            "{\n",
            "  \"airdate\": 559800000,\n",
            "  \"scenes\": [\n",
            "    {\n",
            "      \"dialogue\": [\n",
            "        {\n",
            "          \"character\": \"PICARD\",\n",
            "          \"line\": \"Captain's log, stardate 41153.7. Our destination is planet Deneb Four, b\n"
          ],
          "name": "stdout"
        }
      ]
    },
    {
      "cell_type": "code",
      "metadata": {
        "id": "tbk-Poq0km6i"
      },
      "source": [
        "farpoint = json.loads(farpoint_json)"
      ],
      "execution_count": 30,
      "outputs": []
    },
    {
      "cell_type": "code",
      "metadata": {
        "colab": {
          "base_uri": "https://localhost:8080/"
        },
        "id": "XytiEm3RkmwL",
        "outputId": "ee15805f-b5a3-40f2-97b3-6d2b306181eb"
      },
      "source": [
        "keys = farpoint.keys()\n",
        "print(keys)"
      ],
      "execution_count": 37,
      "outputs": [
        {
          "output_type": "stream",
          "text": [
            "dict_keys(['airdate', 'scenes', 'schedule', 'stardate', 'title'])\n"
          ],
          "name": "stdout"
        }
      ]
    },
    {
      "cell_type": "code",
      "metadata": {
        "colab": {
          "base_uri": "https://localhost:8080/"
        },
        "id": "t3jIFJrVo2N4",
        "outputId": "694073e7-5ee2-4ba0-da0f-d652c39232a8"
      },
      "source": [
        "# print(farpoint['scenes'][1])\n",
        "scenes = farpoint['scenes']\n",
        "len(scenes)\n",
        "scenes[1]['dialogue'][0]"
      ],
      "execution_count": 57,
      "outputs": [
        {
          "output_type": "execute_result",
          "data": {
            "text/plain": [
              "{'character': 'PICARD',\n",
              " 'line': \"You will agree, Data, that Starfleet's orders are difficult?\"}"
            ]
          },
          "metadata": {
            "tags": []
          },
          "execution_count": 57
        }
      ]
    },
    {
      "cell_type": "code",
      "metadata": {
        "id": "hCIhhpyptHcB"
      },
      "source": [
        "lines = {}\n",
        "for n in range(len(scenes)):\n",
        "  for i in range(len(scenes[n]['dialogue'])):\n",
        "    # print(scenes[1]['dialogue'][i]['line'])\n",
        "    lines[scenes[n]['dialogue'][i]['line']] = scenes[n]['dialogue'][i]['character']"
      ],
      "execution_count": 79,
      "outputs": []
    },
    {
      "cell_type": "code",
      "metadata": {
        "colab": {
          "base_uri": "https://localhost:8080/"
        },
        "id": "f-h1ShvstHU4",
        "outputId": "a4e5b060-0694-4b73-94b2-b0ae06707e14"
      },
      "source": [
        "lines"
      ],
      "execution_count": 65,
      "outputs": [
        {
          "output_type": "execute_result",
          "data": {
            "text/plain": [
              "{'Ah! To seek covertly, to go stealthily, to slink, slither': 'DATA',\n",
              " 'As simple as that.': 'PICARD',\n",
              " \"Captain's log, supplementary. The frozen form of Lieutenant Torres has been rushed to sickbay. The question now is the incredible power of the Q being. Do we dare oppose it?\": 'PICARD',\n",
              " \"Captain, I'm sensing a powerful mind.\": 'TROI',\n",
              " 'Controls to full stop, sir. Now reading full stop, sir.': 'TORRES',\n",
              " 'Data, call medics.': 'PICARD',\n",
              " 'Data, how can you be programmed as a virtual encyclopedia of human information without knowing a simple word like snoop?': 'PICARD',\n",
              " 'Difficult? Simply solve the mystery of Farpoint Station.': 'DATA',\n",
              " 'Exactly, yes.': 'PICARD',\n",
              " 'Farpoint Station. Even the name sounds mysterious.': 'TROI',\n",
              " 'Glide, creep, skulk, pussyfoot, gumshoe.': 'DATA',\n",
              " 'He would not have injured you. Do you recognize this, the stun setting?': 'PICARD',\n",
              " \"He's frozen.\": 'TROI',\n",
              " 'I present myself to thee as a fellow ship captain, that thou mayst better understand me. Go back whence thou camest. Stay where thou art!': 'Q',\n",
              " 'Inquiry. The word snoop?': 'DATA',\n",
              " 'It means to spy, to sneak.': 'PICARD',\n",
              " 'It registers as solid, Captain.': 'DATA',\n",
              " \"It's hardly simple, Data, to negotiate a friendly agreement for Starfleet to use the base while at the same time snoop around finding how and why the life form there built it.\": 'PICARD',\n",
              " 'Knowing humans as thou dost, Captain, wouldst thou be captured helpless by them? Now, go back or thou shalt most certainly die.': 'Q',\n",
              " 'Or an incredibly powerful forcefield. But if we collide with either it could be very': 'TROI',\n",
              " 'Possibility, a kind of human behavior I was not designed to emulate.': 'DATA',\n",
              " 'Reverse power, full stop.': 'PICARD',\n",
              " 'Shields and deflectors up, sir.': 'WORF',\n",
              " 'Shut off that damned noise. Go to Yellow Alert.': 'PICARD',\n",
              " 'Something strange on the detector circuits.': 'TORRES',\n",
              " \"That's quite a directive. Would you mind identifying what you are?\": 'PICARD',\n",
              " 'Thou are notified that thy kind hath infiltrated the galaxy too far already. Thou art directed to return to thine own solar system immediately.': 'Q',\n",
              " \"We call ourselves the Q. Or thou mayst call me that. It's all much the same thing.\": 'Q',\n",
              " \"You will agree, Data, that Starfleet's orders are difficult?\": 'PICARD'}"
            ]
          },
          "metadata": {
            "tags": []
          },
          "execution_count": 65
        }
      ]
    },
    {
      "cell_type": "code",
      "metadata": {
        "id": "YLtrKLker2qt"
      },
      "source": [
        "picard = [k for k, v in lines.items() if v == 'PICARD']"
      ],
      "execution_count": 80,
      "outputs": []
    },
    {
      "cell_type": "code",
      "metadata": {
        "colab": {
          "base_uri": "https://localhost:8080/"
        },
        "id": "6aNaeCYxr2m0",
        "outputId": "6c5f4fdd-79a4-4332-bd2e-b5f7dfbcf61e"
      },
      "source": [
        "picard"
      ],
      "execution_count": 81,
      "outputs": [
        {
          "output_type": "execute_result",
          "data": {
            "text/plain": [
              "[\"Captain's log, stardate 41153.7. Our destination is planet Deneb Four, beyond which lies the great unexplored mass of the galaxy. My orders are to examine Farpoint, a starbase built there by the inhabitants of that world. Meanwhile, I am becoming better acquainted with my new command, this Galaxy Class USS Enterprise. I am still somewhat in awe of its size and complexity. As for my crew, we are short in several key positions, most notably a first officer, but I am informed that a highly experienced man, one Commander William Riker, will be waiting to join our ship at our Deneb Four destination.\",\n",
              " \"You will agree, Data, that Starfleet's orders are difficult?\",\n",
              " 'As simple as that.',\n",
              " \"It's hardly simple, Data, to negotiate a friendly agreement for Starfleet to use the base while at the same time snoop around finding how and why the life form there built it.\",\n",
              " 'Data, how can you be programmed as a virtual encyclopedia of human information without knowing a simple word like snoop?',\n",
              " 'It means to spy, to sneak.',\n",
              " 'Exactly, yes.',\n",
              " 'Shut off that damned noise. Go to Yellow Alert.',\n",
              " 'Reverse power, full stop.',\n",
              " \"That's quite a directive. Would you mind identifying what you are?\",\n",
              " 'Data, call medics.',\n",
              " 'He would not have injured you. Do you recognize this, the stun setting?',\n",
              " \"Captain's log, supplementary. The frozen form of Lieutenant Torres has been rushed to sickbay. The question now is the incredible power of the Q being. Do we dare oppose it?\",\n",
              " 'What? That nonsense is centuries behind us.',\n",
              " 'Most certainly I deny it. I agree we still were when humans wore costumes like that, four hundred years ago.',\n",
              " \"But even when we wore costumes like that we'd already started to make rapid progress.\",\n",
              " 'Yes you can, Lieutenant Yar.',\n",
              " \"No. The same old story is the one we're meeting now. Self-righteous life forms who are eager not to learn but to prosecute, to judge anything they don't understand or can't tolerate.\",\n",
              " \"We've no fear of what the true facts about us will reveal.\",\n",
              " 'Sense anything, Commander?',\n",
              " \"From this point, no station aboard, repeat no station, for any reason will make use of transmitted signals or intercom. We'll try and take them by surprise. Let's see what this galaxy class starship can do. Lieutenant, inform engine room to prepare for maximum acceleration.\",\n",
              " 'Records search, Data. Results of detaching saucer section at high warp velocity.',\n",
              " 'Search theoretical.',\n",
              " \"Using print-out only, notify all decks to prepare for maximum acceleration. Now hear this, Maximum, you're entitled to know, means that we'll be pushing our engines well beyond safety limits. Our hope is to surprise whatever that is out there, try and outrun it. Our only other option is to tuck tail between our legs and return to Earth as they demand.\",\n",
              " 'Stand by. Engage.',\n",
              " 'Steady on that.',\n",
              " \"Continue accelerating. Counselor, at this point I'm open to guesses about what we've just met.\",\n",
              " 'Beyond?',\n",
              " 'Are you sure?',\n",
              " 'Reverse angle.',\n",
              " 'Worf, inform the engine room we need more.',\n",
              " 'Go to yellow alert. Arm aft photon torpedoes. Place them on ready status.',\n",
              " 'Now hear this. Print-out message, urgent, all stations on all decks. Prepare for emergency saucer sever. You will command the saucer section, Lieutenant.',\n",
              " 'You are a Starfleet officer, Lieutenant.',\n",
              " \"Make the mark, Data. Note in ship's log that at this startime, I'm transferring command to the battle bridge.\",\n",
              " \"Captain's log, stardate 41153.7. Preparing to detach saucer section. so that families and the majority of the ship's company can seek relative safety while the vessel's stardrive, containing the battle bridge and main armaments, will turn back and confront the mystery that is threatening us.\",\n",
              " 'Lieutenant, your torpedoes must detonate close enough to the hostile to blind it at the moment we separate.',\n",
              " 'Worf, this is the Captain.',\n",
              " 'At the moment of separation, we will reverse power just enough to get your saucer section out ahead and clear of us.',\n",
              " 'Begin countdown. Mark.',\n",
              " \"Let's come to a stop. Reverse power.\",\n",
              " \"Dead stop. We'll hold this position and wait for them.\",\n",
              " \"Lieutenant, are you recommending we fight a life form that can do all those things? I'd like to hear your advice.\",\n",
              " 'Thank you, conn. Commander, signal the following in all languages and on all frequencies. We surrender. State that we are not asking for any terms or conditions.',\n",
              " 'Mid twenty first century. The post-atomic horror.',\n",
              " 'But these courts happened in the past.',\n",
              " 'Can we assume you mean this will be a fair trial?',\n",
              " 'Tasha, no.',\n",
              " \"You've got a lot to learn about humans if you think you can torture us or frighten us into silence. Will she live?\",\n",
              " 'Or what? Or this? Her death? Or worse? You promised the prisoners will not be harmed. We plead nothing so long as you break your own rules.',\n",
              " 'I suggest you are now having second thoughts it. You are considering that if you conduct a fair trial, which was your promise, you may lose.',\n",
              " \"Yes, even though you're judge and prosecutor.\",\n",
              " 'Accepted, so long as you keep to your agreement. And assaulting prisoners is hardly a fair trial.',\n",
              " \"court of fact! We humans know our past, even when we're ashamed of it. I recognize this court system as the one that agreed with that line from Shakespeare. Kill all the lawyers.\",\n",
              " 'Which led to the rule guilty until proven innocent.',\n",
              " 'Grievously savage could mean anything. I will answer only specific charges.',\n",
              " 'I see no charges against us, Your Honor.',\n",
              " 'Guilty. Provisionally.',\n",
              " 'We question whether this court is abiding by its own trial instructions. Have I have permission to have Commander Data repeat the record?',\n",
              " \"These will be your own words, your Honor. What exactly what followed his Honor's statement that the prisoner will not be harmed?\",\n",
              " \"Alright! We agree there is evidence to support the court's contention that humans have been savage. Therefore I say test us. Test whether this is presently true of humans.\",\n",
              " 'There must be many ways we can be tested. We have a long mission ahead of us.',\n",
              " \"We've heard that we may find it rather interesting. Personal log, Commander William Riker. Stardate 41153.7. The USS Hood has dropped me off at Farpoint Station, where I await the arrival of the new USS Enterprise to which I have been assigned as First Officer. Meanwhile I have been asked to visit the Farpoint Administrator's Office, in the old city.\",\n",
              " 'Do we have clearance?',\n",
              " 'Make it so.',\n",
              " 'Is the viewer ready?',\n",
              " \"We'll first bring you up to date on a little adventure we had on our way here, Commander. Then we'll talk. Welcome aboard.\",\n",
              " \"Inform them we'll connect as soon as they arrive. And sent the Commander to me when he's finished.\",\n",
              " 'Come.',\n",
              " \"It seems we're alive only because we have been placed on probation. A very serious kind of probation. Go.\",\n",
              " 'Acknowledged. Commander Riker will conduct a manual docking. Picard out.',\n",
              " \"You've reported in, haven't you? You are qualified?\",\n",
              " 'Then I mean now, Commander.',\n",
              " 'A fairly routine maneuver but you handled it quite well.',\n",
              " 'I do have some questions for you though.',\n",
              " 'I see in your file that Captain DeSoto thinks very highly of you. One curious thing, however, you refused to let him beam down to Altair Three.',\n",
              " \"I see. A Captain's rank means nothing to you.\",\n",
              " \"Isn't it just possible that you don't get to be a Starfleet Captain without knowing whether it's safe to beam down or not? Isn't it a little presumptuous of a first officer to second guess his captain's judgment?\",\n",
              " 'Always.',\n",
              " \"And you don't intend to back off that position?\",\n",
              " 'One further thing. A special favor.',\n",
              " 'Using the same kind of strength you showed with Captain DeSoto, I would appreciate it if you can keep me from making an ass of myself with children.',\n",
              " \"I'm not a family man, Riker, and yet, Starfleet has given me a ship with children aboard.\",\n",
              " \"And I don't feel comfortable with children. But, since a captain needs an image of geniality, you're to see that's what I project.\",\n",
              " 'Welcome to the Enterprise, Commander Riker.',\n",
              " 'Did you signal the Hood, Commander Riker?',\n",
              " 'What was my answer, computer?',\n",
              " 'Lieutenant! Do you intend to blast a hole through the viewer? If the purpose of this is to test humans, your honor, we must proceed in our own way.',\n",
              " 'But futilely.',\n",
              " \"Of course you will. We've a long voyage ahead of us.\",\n",
              " \"We do exactly what we would do if this Q never existed. If we're going to be damned, let's be damned for what we really are.\",\n",
              " \"Personal log, stardate 41153.8. Of the twenty four hours Q allotted us to prove ourselves, eleven have now passed without incident. And yet I cannot forget Q's prediction that we will face some critical test.\",\n",
              " \"And it's your belief that this is what made it possible for them to construct this base to Starfleet standards?\",\n",
              " \"Perhaps it's like those incidents you describe in your report as almost magical attempts to please us.\",\n",
              " \"None of it suggests anything threatening. If only every life form had as much desire to please. Ready to beam down? I'm looking forward to meeting this Groppler Zorn.\",\n",
              " \"As if it's something Q is doing to trick us? Over here. I've asked the Counselor to join us in this meeting. May I introduce our new First Officer, Commander William Riker. Commander Riker, this is our ship's Counselor, Deanna Troi.\",\n",
              " 'Have the two of you met before?',\n",
              " \"Excellent. I consider it important for my key officers know each other's abilities.\",\n",
              " 'My crew and I need a bit more information before we make our recommendations to Starfleet.',\n",
              " \"Good, since we admire what we've seen of your construction techniques. Starfleet may be interested in your constructing starbases elsewhere also.\",\n",
              " 'Counselor? What is it?',\n",
              " \"Yes. No secrets here if we're to be all to be friends. Agreed, Groppler?\",\n",
              " 'The source of this, Groppler. Do you have any idea?',\n",
              " \"And that's it? No other comment?\",\n",
              " \"While evading even our simplest questions about it. We'll adjourn for now while we all reconsider our positions.\",\n",
              " 'Fine. I hope they find you as tasty as they did their past associates.',\n",
              " 'Very good, Commander.',\n",
              " 'Good idea.',\n",
              " 'Children are not allowed on the Bridge.',\n",
              " 'Doctor Crusher.',\n",
              " 'Your son?',\n",
              " \"Well, as long as he's here. I knew your father, Wesley. Want a look around?\",\n",
              " \"But don't touch anything! Try it out. The panel on your right is for log entries, library computer access and retrieval, viewscreen control, intercoms, and so on. Here we have\",\n",
              " 'The forward viewscreen is controlled from the ops position there',\n",
              " 'How the hell do you know that, boy?',\n",
              " 'Off the bridge! Both of you.',\n",
              " 'Picard. Go ahead.',\n",
              " 'Have Commander Riker and his team beam back up. Security, could that be the Hood returning here?',\n",
              " 'Put it on main viewer. Identification?',\n",
              " 'Hail it.',\n",
              " 'Raise all shields, phasers at ready.',\n",
              " 'Get me Groppler Zorn. And continue universal greetings on all frequencies.',\n",
              " 'Zorn, an unidentified vessel has entered into orbit with us.',\n",
              " 'Do you know who it is?',\n",
              " 'I asked if you knew who it is. You mentioned the Ferengi Alliance to me.',\n",
              " 'Are you certain?',\n",
              " 'Sensor scans, Mister Worf.',\n",
              " 'Bring photon torpedoes to ready!',\n",
              " 'Tune that down! Commander Riker, come in. Can you hear me?',\n",
              " 'Commander Riker, come in. Where are you?',\n",
              " 'And Farpoint Station? Any damage there?',\n",
              " \"It's from an unidentified vessel that's entered into orbit with us here.\",\n",
              " 'No ID, no answer to our signals.',\n",
              " 'Understand, Commander.',\n",
              " 'Would you object to your Captain ordering a clearly illegal kidnapping?',\n",
              " 'Groppler Zorn may have the answers we need. Get him. Bring him here.',\n",
              " \"They're forcing a difficult decision on me, Counselor.\",\n",
              " 'We are in the midst of diplomatic discussions with them. Lieutenant, lock phasers on that vessel.',\n",
              " 'Get off my bridge!',\n",
              " \"We've no idea who is on that vessel. My order was a routine safety precaution.\",\n",
              " 'Captain to CMO.',\n",
              " 'Are you reading any of this?',\n",
              " 'Compliments on that, Doctor. Any questions? Starfleet people are trained to render aid and assistance whenever',\n",
              " \"Let's consider your thoughts. You call us savages and yet you knew those people down there would be killed. It is your conduct that is uncivilized.\",\n",
              " 'Go to maneuvering jets. Position us between that vessel and the planet. Force fields full on.',\n",
              " 'From the same source as before?',\n",
              " 'That is enough, damn it!',\n",
              " 'An agreement which you are at this moment breaking by taking over our vessel, interfering with my decisions. Either leave or finish us.',\n",
              " 'Do nothing that he asks.',\n",
              " \"I'll risk none of my crew on that unknown.\",\n",
              " \"At least you impressed him, Number One. That's hopeful.\",\n",
              " \"I'll attend to my duty.\",\n",
              " 'I see nothing so bitter about that.',\n",
              " \"I didn't want you thinking me harsh. Cold blooded.\",\n",
              " \"I didn't welcome you aboard personally, professionally. I made you come to me on the Bridge. I yelled at your son. Who, as you pointed out, was quite correct. He does seem to have a very good grasp of starship operations.\",\n",
              " 'Ah, but, now, your assignment here. I would consider and approve you a transfer for you.',\n",
              " \"Hardly. Your service record shows you're just the Chief Medical Officer I want.\",\n",
              " \"I'm trying to be considerate of your feelings, Doctor. For you to work with a commanding officer who would continually remind you of a terrible personal tragedy.\",\n",
              " 'You requested this posting?',\n",
              " 'Ah. Then, welcome aboard, Doctor.',\n",
              " 'I, er, I hope we can be friends?',\n",
              " 'Transporter chief, yank them back now! Riker, acknowledge!',\n",
              " 'Transporter Chief, do you have their coordinates? Transporter Chief!',\n",
              " \"Transporter Chief, come in! I've people in trouble over there, Q.\",\n",
              " \"Everyone at ease. That's an order. Q, my people are in trouble. Let me help them, please. I'll do whatever you say.\",\n",
              " 'It seems I did make that bargain.',\n",
              " 'No! Do nothing he demands.',\n",
              " 'Was there a reason?',\n",
              " \"If you'd earned that uniform you're wearing, you'd know that the unknown is what brings us out here.\",\n",
              " \"Let's test that. Beginning with the tunnels you have under Farpoint, Groppler.\",\n",
              " \"In return for some pain you'd given other creature?\",\n",
              " 'Thank you. That was the missing part. Lieutenant Yar, rig main phaser banks to deliver an energy beam.',\n",
              " 'And into specific patterns of matter, just as our transporters do.',\n",
              " \"Groppler, you captured something like that, didn't you?\",\n",
              " 'Transmit the message, leave Farpoint Space Station immediately.',\n",
              " 'Attacking those who had captured, capture its mate.',\n",
              " 'Lock it in on Farpoint Station.',\n",
              " 'Let it have whatever it can absorb. Energize.',\n",
              " \"Discontinue. Groppler Zorn, there'll soon be no Farpoint Station, if I'm right about this.\",\n",
              " 'Which your world furnishes you in plenty.',\n",
              " 'Only enough to keep it alive, so that you could force it to shape itself into whatever form you needed!',\n",
              " 'Why do you use other lifeforms for recreation?',\n",
              " \"Leave us! We've passed your little test.\",\n",
              " 'Get off my ship.',\n",
              " \"Captain's log, stardate 41174.2. The agreement for the rebuilding Farpoint Station has been completed per my instructions.\",\n",
              " 'All stations?',\n",
              " 'Some problem, Riker?',\n",
              " \"Oh no, Number One. I'm sure most will be much more interesting. Let's see what's out there. Engage.\"]"
            ]
          },
          "metadata": {
            "tags": []
          },
          "execution_count": 81
        }
      ]
    }
  ]
}